{
 "cells": [
  {
   "cell_type": "code",
   "execution_count": 18,
   "id": "a6524803-4a81-44c0-9419-2ade28e392fb",
   "metadata": {},
   "outputs": [
    {
     "name": "stdout",
     "output_type": "stream",
     "text": [
      "Requirement already satisfied: mysql-connector-python in c:\\users\\hp\\anaconda3\\lib\\site-packages (9.3.0)\n"
     ]
    }
   ],
   "source": [
    "# importing neccessary libraries\n",
    "!pip install mysql-connector-python\n"
   ]
  },
  {
   "cell_type": "code",
   "execution_count": null,
   "id": "e26cd6cb",
   "metadata": {},
   "outputs": [],
   "source": []
  },
  {
   "cell_type": "code",
   "execution_count": 6,
   "id": "0d381673-46c0-4735-995b-ab85dd9788cb",
   "metadata": {},
   "outputs": [],
   "source": [
    "import mysql.connector as mc\n",
    "from mysql.connector import Error\n",
    "import pandas as pd"
   ]
  },
  {
   "cell_type": "code",
   "execution_count": null,
   "id": "a8afd748",
   "metadata": {},
   "outputs": [],
   "source": []
  },
  {
   "cell_type": "code",
   "execution_count": 8,
   "id": "6f04bf7a-c280-4670-96cc-c4b14afaaf42",
   "metadata": {},
   "outputs": [
    {
     "name": "stdout",
     "output_type": "stream",
     "text": [
      "Mysql database connected!\n"
     ]
    }
   ],
   "source": [
    "# creating a function for creating server\n",
    "def create_server_connection(host_name ,user_name , user_password ):\n",
    "    connection = None\n",
    "    try:\n",
    "        connection = mc.connect(\n",
    "            host = host_name,\n",
    "            user = user_name,\n",
    "            password = user_password\n",
    "        )\n",
    "        print(\"Mysql database connected!\")\n",
    "\n",
    "    except Error as err:\n",
    "        print(f\"Error: '{err}' \")\n",
    "\n",
    "    return connection   \n",
    "\n",
    "pw = 'yuktisql'\n",
    "database_name = 'workwith'\n",
    "connection = create_server_connection(\"localhost\",\"root\",'yuktisql')\n",
    "            "
   ]
  },
  {
   "cell_type": "code",
   "execution_count": 10,
   "id": "4abe21b5-8726-492d-8242-f90ca53f95d9",
   "metadata": {},
   "outputs": [
    {
     "name": "stdout",
     "output_type": "stream",
     "text": [
      "Error: '1007 (HY000): Can't create database 'workwith'; database exists' \n"
     ]
    }
   ],
   "source": [
    "#creating a databse\n",
    "\n",
    "def create_database(connection , query):\n",
    "    cursor = connection.cursor()\n",
    "    try:\n",
    "        cursor.execute(query)\n",
    "        print(\"database created\")\n",
    "    except Error as err:\n",
    "        print(f\"Error: '{err}' \")\n",
    "\n",
    "create_database_query = \"Create database workwith\"\n",
    "create_database(connection , create_database_query)\n"
   ]
  },
  {
   "cell_type": "code",
   "execution_count": 12,
   "id": "c9bc94ea-e9e9-45e5-b785-c2582aec52df",
   "metadata": {},
   "outputs": [],
   "source": [
    "# connecting to database\n",
    "def create_db(host_name , user_name , password , db_name):\n",
    "    connection = None\n",
    "    try:\n",
    "        connection = mc.connect(\n",
    "            host = host_name,\n",
    "            user = user_name,\n",
    "            password = password,\n",
    "            database = db_name\n",
    "        )\n",
    "        print(\"Database connnected great Job\")\n",
    "\n",
    "    except Error as err:\n",
    "        print(err)\n",
    "\n",
    "    return connection"
   ]
  },
  {
   "cell_type": "code",
   "execution_count": 14,
   "id": "52adb210-d7fe-4611-998f-4413ae9f4dfc",
   "metadata": {},
   "outputs": [],
   "source": [
    "# executing sql queries\n",
    "def execute_query(connection , query):\n",
    "    cursor = connection.cursor() #this establishes connection between mysql and python and to run the query\n",
    "    try:\n",
    "        cursor.execute(query)\n",
    "        connection.commit()\n",
    "        print(\"Query execution was done\")\n",
    "    except Error as err:\n",
    "        print(err)\n"
   ]
  },
  {
   "cell_type": "code",
   "execution_count": 16,
   "id": "1e772512-5330-4e57-9ed5-0ad7678e6311",
   "metadata": {},
   "outputs": [
    {
     "name": "stdout",
     "output_type": "stream",
     "text": [
      "Database connnected great Job\n",
      "1050 (42S01): Table 'orders' already exists\n"
     ]
    }
   ],
   "source": [
    "# creating table\n",
    "create_orders_table = \"\"\" \n",
    "create table orders(\n",
    "order_id int primary key,\n",
    "cus_name varchar(30) not null,\n",
    "product_name varchar(20) not null,\n",
    "date_ordered date,\n",
    "quantity int,\n",
    "unit_price float,\n",
    "phone_num varchar(20) \n",
    ");\n",
    "\"\"\"\n",
    "\n",
    "# call create_db function\n",
    "connection = create_db(\"localhost\",\"root\",'yuktisql' , \"workwith\")\n",
    "execute_query(connection, create_orders_table)"
   ]
  },
  {
   "cell_type": "code",
   "execution_count": 18,
   "id": "6154bc63-b699-41e4-a76a-008ea36b1c72",
   "metadata": {},
   "outputs": [
    {
     "name": "stdout",
     "output_type": "stream",
     "text": [
      "Database connnected great Job\n",
      "1062 (23000): Duplicate entry '101' for key 'orders.PRIMARY'\n"
     ]
    }
   ],
   "source": [
    "# inserting few records\n",
    "data_orders = \"\"\" \n",
    "insert into orders values\n",
    "(101 , 'yukti' , 'laptop', '2012-03-12', 2 , 800 , '7348705308'),\n",
    "(102 , 'anupriya' , 'pendrive', '2012-03-12', 2 , 800 , '7348705308'),\n",
    "(103 , 'kennon' , 'mobile ', '2012-03-12', 1, 800 , '7348705308'),\n",
    "(104 , 'rahul' , 'biscuit', '2012-03-12', 30 , 800 , '7348705308'),\n",
    "(105 , 'shivani' , 'ice-creame', '2012-03-12', 20 , 800 , '7348705308')\n",
    "\n",
    "\"\"\"\n",
    "connection = create_db(\"localhost\",\"root\",'yuktisql' , \"workwith\")\n",
    "execute_query(connection, data_orders)\n",
    "\n",
    "\n",
    "\n",
    "\n"
   ]
  },
  {
   "cell_type": "code",
   "execution_count": 24,
   "id": "587de672-4af9-489e-83c4-d0c62025c1f2",
   "metadata": {},
   "outputs": [],
   "source": [
    "# now printing the data\n",
    "def read_query(connection,query):\n",
    "    cursor = connection.cursor()\n",
    "    result = None\n",
    "    try:\n",
    "        cursor.execute(query)\n",
    "        result = cursor.fetchall()\n",
    "        return result\n",
    "    except Error as err:\n",
    "        print(err)\n",
    "\n",
    "    "
   ]
  },
  {
   "cell_type": "code",
   "execution_count": 26,
   "id": "81dc97f7",
   "metadata": {},
   "outputs": [
    {
     "name": "stdout",
     "output_type": "stream",
     "text": [
      "Database connnected great Job\n",
      "(101, 'yukti', 'laptop', datetime.date(2012, 3, 12), 2, 800.0, '7348705308')\n",
      "(102, 'anupriya', 'pendrive', datetime.date(2012, 3, 12), 2, 800.0, '7348705308')\n",
      "(103, 'kennon', 'mobile ', datetime.date(2012, 3, 12), 1, 800.0, '7348705308')\n",
      "(104, 'rahul', 'biscuit', datetime.date(2012, 3, 12), 30, 800.0, '7348705308')\n",
      "(105, 'shivani', 'ice-creame', datetime.date(2012, 3, 12), 20, 800.0, '7348705308')\n"
     ]
    }
   ],
   "source": [
    "# using the select statement\n",
    "q1 = \"\"\"\n",
    "select * from orders;\n",
    "\"\"\"\n",
    "connection = create_db(\"localhost\",\"root\",'yuktisql' , \"workwith\")\n",
    "result = read_query(connection , q1)\n",
    "for r in result:\n",
    "    print(r)\n",
    "\n"
   ]
  },
  {
   "cell_type": "code",
   "execution_count": 32,
   "id": "d371a4b6-1727-4403-af0e-e707a8b13938",
   "metadata": {},
   "outputs": [
    {
     "name": "stdout",
     "output_type": "stream",
     "text": [
      "Database connnected great Job\n",
      "('yukti', '7348705308')\n",
      "('anupriya', '7348705308')\n",
      "('kennon', '7348705308')\n",
      "('rahul', '7348705308')\n",
      "('shivani', '7348705308')\n"
     ]
    }
   ],
   "source": [
    "q2 = \"\"\"\n",
    "select cus_name , phone_num  from orders;\n",
    "\"\"\"\n",
    "connection = create_db(\"localhost\",\"root\",'yuktisql' , \"workwith\")\n",
    "result = read_query(connection , q2)\n",
    "for r in result:\n",
    "    print(r)"
   ]
  },
  {
   "cell_type": "code",
   "execution_count": 34,
   "id": "b99cb2eb-d26e-4db0-8d40-047afd4f3429",
   "metadata": {},
   "outputs": [
    {
     "name": "stdout",
     "output_type": "stream",
     "text": [
      "Database connnected great Job\n",
      "(2012,)\n",
      "(2012,)\n",
      "(2012,)\n",
      "(2012,)\n",
      "(2012,)\n"
     ]
    }
   ],
   "source": [
    "# get inly years\n",
    "q3 = \"\"\"\n",
    "select year(date_ordered) from orders;\n",
    "\"\"\"\n",
    "connection = create_db(\"localhost\",\"root\",'yuktisql' , \"workwith\")\n",
    "result = read_query(connection , q3)\n",
    "for r in result:\n",
    "    print(r)\n"
   ]
  },
  {
   "cell_type": "code",
   "execution_count": 38,
   "id": "d29fdbc6-1a52-4be0-a557-c6fadc2e2567",
   "metadata": {},
   "outputs": [
    {
     "name": "stdout",
     "output_type": "stream",
     "text": [
      "Database connnected great Job\n",
      "(104, 'rahul', 'biscuit', datetime.date(2012, 3, 12), 30, 800.0, '7348705308')\n",
      "(105, 'shivani', 'ice-creame', datetime.date(2012, 3, 12), 20, 800.0, '7348705308')\n"
     ]
    }
   ],
   "source": [
    "# using where clause\n",
    "q4 = \"\"\"\n",
    "select * from orders\n",
    "where quantity > 3;\n",
    "\"\"\"\n",
    "connection = create_db(\"localhost\",\"root\",'yuktisql' , \"workwith\")\n",
    "result = read_query(connection , q4)\n",
    "for r in result:\n",
    "    print(r)\n"
   ]
  },
  {
   "cell_type": "code",
   "execution_count": 42,
   "id": "5e7e5960-8868-48df-a391-157edbf36937",
   "metadata": {},
   "outputs": [
    {
     "name": "stdout",
     "output_type": "stream",
     "text": [
      "Database connnected great Job\n"
     ]
    }
   ],
   "source": [
    "q5 = \"\"\"\n",
    "ALTER TABLE orders ADD COLUMN age int;\n",
    "\"\"\"\n",
    "connection = create_db(\"localhost\",\"root\",'yuktisql' , \"workwith\")\n",
    "result = read_query(connection , q5)\n",
    "for r in result:\n",
    "    print(r)"
   ]
  },
  {
   "cell_type": "code",
   "execution_count": 46,
   "id": "be5f84dd-fa77-4436-9239-b1189e81a37d",
   "metadata": {},
   "outputs": [
    {
     "name": "stdout",
     "output_type": "stream",
     "text": [
      "Database connnected great Job\n",
      "('order_id', 'int', 'NO', 'PRI', None, '')\n",
      "('cus_name', 'varchar(30)', 'NO', '', None, '')\n",
      "('product_name', 'varchar(20)', 'NO', '', None, '')\n",
      "('date_ordered', 'date', 'YES', '', None, '')\n",
      "('quantity', 'int', 'YES', '', None, '')\n",
      "('unit_price', 'float', 'YES', '', None, '')\n",
      "('phone_num', 'varchar(20)', 'YES', '', None, '')\n",
      "('age', 'int', 'YES', '', None, '')\n"
     ]
    }
   ],
   "source": [
    "# checking whether table is added or not\n",
    "q6 = \"\"\"\n",
    "desc orders\n",
    "\"\"\"\n",
    "connection = create_db(\"localhost\",\"root\",'yuktisql' , \"workwith\")\n",
    "result = read_query(connection , q6)\n",
    "for r in result:\n",
    "    print(r)"
   ]
  },
  {
   "cell_type": "code",
   "execution_count": 58,
   "id": "1a89d488-9023-45f7-aa39-b16eadb72c4e",
   "metadata": {},
   "outputs": [
    {
     "name": "stdout",
     "output_type": "stream",
     "text": [
      "Database connnected great Job\n",
      "(104, 'rahul', 'biscuit', datetime.date(2012, 3, 12), 30, 800.0, '7348705308', None)\n",
      "(105, 'shivani', 'ice-creame', datetime.date(2012, 3, 12), 20, 800.0, '7348705308', None)\n",
      "(101, 'yukti', 'laptop', datetime.date(2012, 3, 12), 2, 800.0, '7348705308', None)\n",
      "(102, 'anupriya', 'pendrive', datetime.date(2012, 3, 12), 2, 800.0, '7348705308', None)\n",
      "(103, 'kennon', 'mobile ', datetime.date(2012, 3, 12), 1, 800.0, '7348705308', None)\n"
     ]
    }
   ],
   "source": [
    "q7 = \"\"\"\n",
    "select * from orders order by quantity desc ;\n",
    "\"\"\"\n",
    "connection = create_db(\"localhost\",\"root\",'yuktisql' , \"workwith\")\n",
    "result = read_query(connection , q7)\n",
    "for r in result:\n",
    "    print(r)"
   ]
  },
  {
   "cell_type": "code",
   "execution_count": 64,
   "id": "80321f14-6ff2-450c-af8d-cbb4e15f2f11",
   "metadata": {},
   "outputs": [
    {
     "data": {
      "text/html": [
       "<div>\n",
       "<style scoped>\n",
       "    .dataframe tbody tr th:only-of-type {\n",
       "        vertical-align: middle;\n",
       "    }\n",
       "\n",
       "    .dataframe tbody tr th {\n",
       "        vertical-align: top;\n",
       "    }\n",
       "\n",
       "    .dataframe thead th {\n",
       "        text-align: right;\n",
       "    }\n",
       "</style>\n",
       "<table border=\"1\" class=\"dataframe\">\n",
       "  <thead>\n",
       "    <tr style=\"text-align: right;\">\n",
       "      <th></th>\n",
       "      <th>order_id</th>\n",
       "      <th>cus_name</th>\n",
       "      <th>product_name</th>\n",
       "      <th>date_ordered</th>\n",
       "      <th>quantity</th>\n",
       "      <th>unit_price</th>\n",
       "      <th>phone_num</th>\n",
       "      <th>age</th>\n",
       "    </tr>\n",
       "  </thead>\n",
       "  <tbody>\n",
       "    <tr>\n",
       "      <th>0</th>\n",
       "      <td>104</td>\n",
       "      <td>rahul</td>\n",
       "      <td>biscuit</td>\n",
       "      <td>2012-03-12</td>\n",
       "      <td>30</td>\n",
       "      <td>800.0</td>\n",
       "      <td>7348705308</td>\n",
       "      <td>None</td>\n",
       "    </tr>\n",
       "    <tr>\n",
       "      <th>1</th>\n",
       "      <td>105</td>\n",
       "      <td>shivani</td>\n",
       "      <td>ice-creame</td>\n",
       "      <td>2012-03-12</td>\n",
       "      <td>20</td>\n",
       "      <td>800.0</td>\n",
       "      <td>7348705308</td>\n",
       "      <td>None</td>\n",
       "    </tr>\n",
       "    <tr>\n",
       "      <th>2</th>\n",
       "      <td>101</td>\n",
       "      <td>yukti</td>\n",
       "      <td>laptop</td>\n",
       "      <td>2012-03-12</td>\n",
       "      <td>2</td>\n",
       "      <td>800.0</td>\n",
       "      <td>7348705308</td>\n",
       "      <td>None</td>\n",
       "    </tr>\n",
       "    <tr>\n",
       "      <th>3</th>\n",
       "      <td>102</td>\n",
       "      <td>anupriya</td>\n",
       "      <td>pendrive</td>\n",
       "      <td>2012-03-12</td>\n",
       "      <td>2</td>\n",
       "      <td>800.0</td>\n",
       "      <td>7348705308</td>\n",
       "      <td>None</td>\n",
       "    </tr>\n",
       "    <tr>\n",
       "      <th>4</th>\n",
       "      <td>103</td>\n",
       "      <td>kennon</td>\n",
       "      <td>mobile</td>\n",
       "      <td>2012-03-12</td>\n",
       "      <td>1</td>\n",
       "      <td>800.0</td>\n",
       "      <td>7348705308</td>\n",
       "      <td>None</td>\n",
       "    </tr>\n",
       "  </tbody>\n",
       "</table>\n",
       "</div>"
      ],
      "text/plain": [
       "   order_id  cus_name product_name date_ordered  quantity  unit_price  \\\n",
       "0       104     rahul      biscuit   2012-03-12        30       800.0   \n",
       "1       105   shivani   ice-creame   2012-03-12        20       800.0   \n",
       "2       101     yukti       laptop   2012-03-12         2       800.0   \n",
       "3       102  anupriya     pendrive   2012-03-12         2       800.0   \n",
       "4       103    kennon      mobile    2012-03-12         1       800.0   \n",
       "\n",
       "    phone_num   age  \n",
       "0  7348705308  None  \n",
       "1  7348705308  None  \n",
       "2  7348705308  None  \n",
       "3  7348705308  None  \n",
       "4  7348705308  None  "
      ]
     },
     "metadata": {},
     "output_type": "display_data"
    }
   ],
   "source": [
    "# create a dataframe from given table\n",
    "\n",
    "from_db = []\n",
    "\n",
    "for r in result:\n",
    "    r = list(r)\n",
    "    from_db.append(r)\n",
    "\n",
    "columns = [\"order_id\",\"cus_name\",\"product_name\",\n",
    "           \"date_ordered\",\"quantity\",\"unit_price\",\"phone_num\" , \"age\"]\n",
    "\n",
    "df = pd.DataFrame(from_db , columns = columns)\n",
    "display(df)"
   ]
  },
  {
   "cell_type": "code",
   "execution_count": 68,
   "id": "8afab033-2f67-4a93-801e-d5ac1a33ef57",
   "metadata": {},
   "outputs": [
    {
     "name": "stdout",
     "output_type": "stream",
     "text": [
      "Database connnected great Job\n",
      "Query execution was done\n"
     ]
    }
   ],
   "source": [
    "# using update commands\n",
    "update = \"\"\"\n",
    "update orders set unit_price = 45\n",
    "where order_id = 103\n",
    "\"\"\"\n",
    "\n",
    "connection = create_db(\"localhost\",\"root\",'yuktisql' , \"workwith\")\n",
    "result = read_query(connection , update)\n",
    "# for r in result:\n",
    "#     print(r)\n",
    "execute_query(connection,update)"
   ]
  },
  {
   "cell_type": "code",
   "execution_count": 72,
   "id": "e5ef604c-3bf0-4b97-aee4-6a35961d2cdc",
   "metadata": {},
   "outputs": [
    {
     "name": "stdout",
     "output_type": "stream",
     "text": [
      "Database connnected great Job\n",
      "(101, 'yukti', 'laptop', datetime.date(2012, 3, 12), 2, 800.0, '7348705308', None)\n",
      "(102, 'anupriya', 'pendrive', datetime.date(2012, 3, 12), 2, 800.0, '7348705308', None)\n",
      "(103, 'kennon', 'mobile ', datetime.date(2012, 3, 12), 1, 45.0, '7348705308', None)\n",
      "(104, 'rahul', 'biscuit', datetime.date(2012, 3, 12), 30, 800.0, '7348705308', None)\n",
      "(105, 'shivani', 'ice-creame', datetime.date(2012, 3, 12), 20, 800.0, '7348705308', None)\n"
     ]
    }
   ],
   "source": [
    "q8 = \"\"\"\n",
    "select * from orders;\n",
    "\"\"\"\n",
    "\n",
    "connection = create_db(\"localhost\",\"root\",'yuktisql' , \"workwith\")\n",
    "result = read_query(connection , q8)\n",
    "for r in result:\n",
    "    print(r)"
   ]
  },
  {
   "cell_type": "code",
   "execution_count": 78,
   "id": "7f9f4821-8a8b-4c26-94ae-fefd398598d1",
   "metadata": {},
   "outputs": [
    {
     "name": "stdout",
     "output_type": "stream",
     "text": [
      "Database connnected great Job\n",
      "Query execution was done\n"
     ]
    }
   ],
   "source": [
    "# deleting a record\n",
    "delete_order = \"\"\"\n",
    "delete from orders\n",
    "where order_id = 103;\n",
    "\"\"\"\n",
    "\n",
    "connection = create_db(\"localhost\",\"root\",'yuktisql' , \"workwith\")\n",
    "result = read_query(connection , delete_order)\n",
    "execute_query(connection,update)"
   ]
  },
  {
   "cell_type": "code",
   "execution_count": 80,
   "id": "2979d479-ff23-49d8-bb22-e5a9a36a3567",
   "metadata": {},
   "outputs": [
    {
     "name": "stdout",
     "output_type": "stream",
     "text": [
      "Database connnected great Job\n",
      "(101, 'yukti', 'laptop', datetime.date(2012, 3, 12), 2, 800.0, '7348705308', None)\n",
      "(102, 'anupriya', 'pendrive', datetime.date(2012, 3, 12), 2, 800.0, '7348705308', None)\n",
      "(104, 'rahul', 'biscuit', datetime.date(2012, 3, 12), 30, 800.0, '7348705308', None)\n",
      "(105, 'shivani', 'ice-creame', datetime.date(2012, 3, 12), 20, 800.0, '7348705308', None)\n"
     ]
    }
   ],
   "source": [
    "q9 = \"\"\"\n",
    "select * from orders;\n",
    "\"\"\"\n",
    "\n",
    "connection = create_db(\"localhost\",\"root\",'yuktisql' , \"workwith\")\n",
    "result = read_query(connection , q9)\n",
    "for r in result:\n",
    "    print(r)"
   ]
  },
  {
   "cell_type": "code",
   "execution_count": null,
   "id": "c8fab224-a622-438a-9e6b-6bd0b2f9d0b3",
   "metadata": {},
   "outputs": [],
   "source": []
  }
 ],
 "metadata": {
  "kernelspec": {
   "display_name": "Python 3 (ipykernel)",
   "language": "python",
   "name": "python3"
  },
  "language_info": {
   "codemirror_mode": {
    "name": "ipython",
    "version": 3
   },
   "file_extension": ".py",
   "mimetype": "text/x-python",
   "name": "python",
   "nbconvert_exporter": "python",
   "pygments_lexer": "ipython3",
   "version": "3.12.7"
  }
 },
 "nbformat": 4,
 "nbformat_minor": 5
}
